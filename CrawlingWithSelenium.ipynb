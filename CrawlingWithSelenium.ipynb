{
 "cells": [
  {
   "cell_type": "code",
   "execution_count": 1,
   "metadata": {},
   "outputs": [],
   "source": [
    "import os\n",
    "import time\n",
    "from selenium import webdriver\n",
    "DOWNLOAD_PATH = 'c:/crol'\n",
    "DRIVER_PATH ='c:/crol/chromedriver.exe'\n",
    "#크롤링 시작 페이지\n",
    "START_PAGE =1"
   ]
  },
  {
   "cell_type": "code",
   "execution_count": 42,
   "metadata": {},
   "outputs": [],
   "source": [
    "# options = webdriver.ChromeOptions()\n",
    "# options.headless = False\n",
    "# preferences = { \"download.default_directory\": DOWNLOAD_PATH \n",
    "#                #\"directory_upgrade\": True, \n",
    "#                #\"safebrowsing.enabled\": True, \n",
    "#                #\"profile.default_content_setting_values.automatic_downloads\": 2 \n",
    "#               } \n",
    "# options.add_experimental_option(\"prefs\", preferences) \n",
    "#browser = webdriver.Chrome(executable_path = DRIVER_PATH, chrome_options = options)"
   ]
  },
  {
   "cell_type": "code",
   "execution_count": 2,
   "metadata": {},
   "outputs": [],
   "source": [
    "browser = webdriver.Chrome(DRIVER_PATH)"
   ]
  },
  {
   "cell_type": "code",
   "execution_count": 3,
   "metadata": {},
   "outputs": [],
   "source": [
    "url ='http://ebid.ex.co.kr/ebid/jsps/ebid/buy/bidResult/bidResultList.jsp?bid_type=B&in_out=I&list_gubun=R&status=Z'\n",
    "browser.get(url)"
   ]
  },
  {
   "cell_type": "code",
   "execution_count": 17,
   "metadata": {},
   "outputs": [],
   "source": [
    "#검색어, 기간설정\n",
    "keyword = '스마트톨링'\n",
    "start_date = '20100101'\n",
    "end_date = '20190618' #Today\n"
   ]
  },
  {
   "cell_type": "code",
   "execution_count": 18,
   "metadata": {},
   "outputs": [],
   "source": [
    "#검색조건 기입\n",
    "browser.find_element_by_id('startDate').clear()\n",
    "browser.find_element_by_id('endDate').clear()\n",
    "browser.find_element_by_id('notiTitle').clear()\n",
    "\n",
    "browser.find_element_by_id('startDate').send_keys(start_date)\n",
    "browser.find_element_by_id('endDate').send_keys(end_date)\n",
    "browser.find_element_by_id('notiTitle').send_keys(keyword)\n",
    "\n"
   ]
  },
  {
   "cell_type": "code",
   "execution_count": 19,
   "metadata": {},
   "outputs": [],
   "source": [
    "#검색 실행\n",
    "browser.find_element_by_xpath(\"//div[@class='search_btn']/button\").click()\n",
    "#browser.find_element_by_xpath(\"//button[@name='search_btn']\").click()\n"
   ]
  },
  {
   "cell_type": "code",
   "execution_count": 7,
   "metadata": {},
   "outputs": [],
   "source": [
    "#다운로드 파일 이동 함수정의\n",
    "import glob\n",
    "def move_to_download_folder(downloadPath, newPath, fileExtension):\n",
    "    ## move the file to new path\n",
    "    currentFile = glob.glob(downloadPath+\"*\"+fileExtension)\n",
    "    \n",
    "    if(len(currentFile)==0):\n",
    "        return\n",
    "    else :\n",
    "        print(currentFile)\n",
    "    fileDestination = newPath+currentFile[0].split('\\\\')[1]\n",
    "    os.rename(currentFile[0], fileDestination)\n",
    "    return"
   ]
  },
  {
   "cell_type": "code",
   "execution_count": 20,
   "metadata": {
    "scrolled": true
   },
   "outputs": [
    {
     "name": "stdout",
     "output_type": "stream",
     "text": [
      "c:/crol/2017-01150 [국제입찰][재공고]스마트톨링 및 교통개선을 위한 다차..(2017-10-25,낙찰)downloading...\n",
      "4개의 파일 발견\n",
      "['C:/Users/Metanet/Downloads\\\\(1)설계서.xls']\n",
      "['C:/Users/Metanet/Downloads\\\\(2)시방서.hwp']\n",
      "['C:/Users/Metanet/Downloads\\\\(3)제안요청서.hwp']\n",
      "['C:/Users/Metanet/Downloads\\\\(4)입찰공고문(재공고).hwp']\n",
      "c:/crol/2017-01091 [긴급][국제입찰]스마트톨링 및 교통개선을 위한 다차로..(2017-10-12,재공고)downloading...\n",
      "4개의 파일 발견\n",
      "['C:/Users/Metanet/Downloads\\\\(2)시방서.hwp']\n",
      "['C:/Users/Metanet/Downloads\\\\(1)설계서.xls']\n",
      "['C:/Users/Metanet/Downloads\\\\(3)제안요청서.hwp']\n",
      "['C:/Users/Metanet/Downloads\\\\(4)입찰공고문.hwp']\n",
      "c:/crol/2017-00030 [긴급][국제입찰]남해선(영암-순천) 스마트톨링 시범사..(2017-02-14,낙찰)downloading...\n",
      "4개의 파일 발견\n",
      "['C:/Users/Metanet/Downloads\\\\(1)설계서_남해선 시범사업.hwp']\n",
      "['C:/Users/Metanet/Downloads\\\\(3)제안요청서_남해선 시범사업.hwp']\n",
      "['C:/Users/Metanet/Downloads\\\\(4)공고문.hwp']\n"
     ]
    },
    {
     "ename": "NoSuchElementException",
     "evalue": "Message: no such element: Unable to locate element: {\"method\":\"xpath\",\"selector\":\"//*[@id=\"contents\"]/div[6]/div/table/tbody/tr[5]/td[2]\"}\n  (Session info: chrome=75.0.3770.90)\n",
     "output_type": "error",
     "traceback": [
      "\u001b[1;31m---------------------------------------------------------------------------\u001b[0m",
      "\u001b[1;31mNoSuchElementException\u001b[0m                    Traceback (most recent call last)",
      "\u001b[1;32m<ipython-input-20-f8b2870eb630>\u001b[0m in \u001b[0;36m<module>\u001b[1;34m\u001b[0m\n\u001b[0;32m      7\u001b[0m             \u001b[0marticle_xpath\u001b[0m \u001b[1;33m=\u001b[0m \u001b[1;34m'//*[@id=\"contents\"]/div[6]/div/table/tbody/tr['\u001b[0m\u001b[1;33m+\u001b[0m\u001b[0mstr\u001b[0m\u001b[1;33m(\u001b[0m\u001b[0mi\u001b[0m\u001b[1;33m)\u001b[0m\u001b[1;33m+\u001b[0m\u001b[1;34m']'\u001b[0m\u001b[1;33m\u001b[0m\u001b[1;33m\u001b[0m\u001b[0m\n\u001b[0;32m      8\u001b[0m             \u001b[1;31m#2478\u001b[0m\u001b[1;33m\u001b[0m\u001b[1;33m\u001b[0m\u001b[1;33m\u001b[0m\u001b[0m\n\u001b[1;32m----> 9\u001b[1;33m             \u001b[0mid\u001b[0m \u001b[1;33m=\u001b[0m \u001b[0mbrowser\u001b[0m\u001b[1;33m.\u001b[0m\u001b[0mfind_element_by_xpath\u001b[0m\u001b[1;33m(\u001b[0m\u001b[0marticle_xpath\u001b[0m\u001b[1;33m+\u001b[0m\u001b[1;34m'/td[2]'\u001b[0m\u001b[1;33m)\u001b[0m\u001b[1;33m.\u001b[0m\u001b[0mtext\u001b[0m\u001b[1;33m\u001b[0m\u001b[1;33m\u001b[0m\u001b[0m\n\u001b[0m\u001b[0;32m     10\u001b[0m             \u001b[0mname\u001b[0m \u001b[1;33m=\u001b[0m \u001b[0mbrowser\u001b[0m\u001b[1;33m.\u001b[0m\u001b[0mfind_element_by_xpath\u001b[0m\u001b[1;33m(\u001b[0m\u001b[0marticle_xpath\u001b[0m\u001b[1;33m+\u001b[0m\u001b[1;34m'/td[4]'\u001b[0m\u001b[1;33m)\u001b[0m\u001b[1;33m.\u001b[0m\u001b[0mtext\u001b[0m\u001b[1;33m\u001b[0m\u001b[1;33m\u001b[0m\u001b[0m\n\u001b[0;32m     11\u001b[0m             \u001b[0mday\u001b[0m \u001b[1;33m=\u001b[0m \u001b[0mbrowser\u001b[0m\u001b[1;33m.\u001b[0m\u001b[0mfind_element_by_xpath\u001b[0m\u001b[1;33m(\u001b[0m\u001b[0marticle_xpath\u001b[0m\u001b[1;33m+\u001b[0m\u001b[1;34m'/td[7]'\u001b[0m\u001b[1;33m)\u001b[0m\u001b[1;33m.\u001b[0m\u001b[0mtext\u001b[0m\u001b[1;33m\u001b[0m\u001b[1;33m\u001b[0m\u001b[0m\n",
      "\u001b[1;32m~\\Anaconda3\\lib\\site-packages\\selenium\\webdriver\\remote\\webdriver.py\u001b[0m in \u001b[0;36mfind_element_by_xpath\u001b[1;34m(self, xpath)\u001b[0m\n\u001b[0;32m    392\u001b[0m             \u001b[0melement\u001b[0m \u001b[1;33m=\u001b[0m \u001b[0mdriver\u001b[0m\u001b[1;33m.\u001b[0m\u001b[0mfind_element_by_xpath\u001b[0m\u001b[1;33m(\u001b[0m\u001b[1;34m'//div/td[1]'\u001b[0m\u001b[1;33m)\u001b[0m\u001b[1;33m\u001b[0m\u001b[1;33m\u001b[0m\u001b[0m\n\u001b[0;32m    393\u001b[0m         \"\"\"\n\u001b[1;32m--> 394\u001b[1;33m         \u001b[1;32mreturn\u001b[0m \u001b[0mself\u001b[0m\u001b[1;33m.\u001b[0m\u001b[0mfind_element\u001b[0m\u001b[1;33m(\u001b[0m\u001b[0mby\u001b[0m\u001b[1;33m=\u001b[0m\u001b[0mBy\u001b[0m\u001b[1;33m.\u001b[0m\u001b[0mXPATH\u001b[0m\u001b[1;33m,\u001b[0m \u001b[0mvalue\u001b[0m\u001b[1;33m=\u001b[0m\u001b[0mxpath\u001b[0m\u001b[1;33m)\u001b[0m\u001b[1;33m\u001b[0m\u001b[1;33m\u001b[0m\u001b[0m\n\u001b[0m\u001b[0;32m    395\u001b[0m \u001b[1;33m\u001b[0m\u001b[0m\n\u001b[0;32m    396\u001b[0m     \u001b[1;32mdef\u001b[0m \u001b[0mfind_elements_by_xpath\u001b[0m\u001b[1;33m(\u001b[0m\u001b[0mself\u001b[0m\u001b[1;33m,\u001b[0m \u001b[0mxpath\u001b[0m\u001b[1;33m)\u001b[0m\u001b[1;33m:\u001b[0m\u001b[1;33m\u001b[0m\u001b[1;33m\u001b[0m\u001b[0m\n",
      "\u001b[1;32m~\\Anaconda3\\lib\\site-packages\\selenium\\webdriver\\remote\\webdriver.py\u001b[0m in \u001b[0;36mfind_element\u001b[1;34m(self, by, value)\u001b[0m\n\u001b[0;32m    976\u001b[0m         return self.execute(Command.FIND_ELEMENT, {\n\u001b[0;32m    977\u001b[0m             \u001b[1;34m'using'\u001b[0m\u001b[1;33m:\u001b[0m \u001b[0mby\u001b[0m\u001b[1;33m,\u001b[0m\u001b[1;33m\u001b[0m\u001b[1;33m\u001b[0m\u001b[0m\n\u001b[1;32m--> 978\u001b[1;33m             'value': value})['value']\n\u001b[0m\u001b[0;32m    979\u001b[0m \u001b[1;33m\u001b[0m\u001b[0m\n\u001b[0;32m    980\u001b[0m     \u001b[1;32mdef\u001b[0m \u001b[0mfind_elements\u001b[0m\u001b[1;33m(\u001b[0m\u001b[0mself\u001b[0m\u001b[1;33m,\u001b[0m \u001b[0mby\u001b[0m\u001b[1;33m=\u001b[0m\u001b[0mBy\u001b[0m\u001b[1;33m.\u001b[0m\u001b[0mID\u001b[0m\u001b[1;33m,\u001b[0m \u001b[0mvalue\u001b[0m\u001b[1;33m=\u001b[0m\u001b[1;32mNone\u001b[0m\u001b[1;33m)\u001b[0m\u001b[1;33m:\u001b[0m\u001b[1;33m\u001b[0m\u001b[1;33m\u001b[0m\u001b[0m\n",
      "\u001b[1;32m~\\Anaconda3\\lib\\site-packages\\selenium\\webdriver\\remote\\webdriver.py\u001b[0m in \u001b[0;36mexecute\u001b[1;34m(self, driver_command, params)\u001b[0m\n\u001b[0;32m    319\u001b[0m         \u001b[0mresponse\u001b[0m \u001b[1;33m=\u001b[0m \u001b[0mself\u001b[0m\u001b[1;33m.\u001b[0m\u001b[0mcommand_executor\u001b[0m\u001b[1;33m.\u001b[0m\u001b[0mexecute\u001b[0m\u001b[1;33m(\u001b[0m\u001b[0mdriver_command\u001b[0m\u001b[1;33m,\u001b[0m \u001b[0mparams\u001b[0m\u001b[1;33m)\u001b[0m\u001b[1;33m\u001b[0m\u001b[1;33m\u001b[0m\u001b[0m\n\u001b[0;32m    320\u001b[0m         \u001b[1;32mif\u001b[0m \u001b[0mresponse\u001b[0m\u001b[1;33m:\u001b[0m\u001b[1;33m\u001b[0m\u001b[1;33m\u001b[0m\u001b[0m\n\u001b[1;32m--> 321\u001b[1;33m             \u001b[0mself\u001b[0m\u001b[1;33m.\u001b[0m\u001b[0merror_handler\u001b[0m\u001b[1;33m.\u001b[0m\u001b[0mcheck_response\u001b[0m\u001b[1;33m(\u001b[0m\u001b[0mresponse\u001b[0m\u001b[1;33m)\u001b[0m\u001b[1;33m\u001b[0m\u001b[1;33m\u001b[0m\u001b[0m\n\u001b[0m\u001b[0;32m    322\u001b[0m             response['value'] = self._unwrap_value(\n\u001b[0;32m    323\u001b[0m                 response.get('value', None))\n",
      "\u001b[1;32m~\\Anaconda3\\lib\\site-packages\\selenium\\webdriver\\remote\\errorhandler.py\u001b[0m in \u001b[0;36mcheck_response\u001b[1;34m(self, response)\u001b[0m\n\u001b[0;32m    240\u001b[0m                 \u001b[0malert_text\u001b[0m \u001b[1;33m=\u001b[0m \u001b[0mvalue\u001b[0m\u001b[1;33m[\u001b[0m\u001b[1;34m'alert'\u001b[0m\u001b[1;33m]\u001b[0m\u001b[1;33m.\u001b[0m\u001b[0mget\u001b[0m\u001b[1;33m(\u001b[0m\u001b[1;34m'text'\u001b[0m\u001b[1;33m)\u001b[0m\u001b[1;33m\u001b[0m\u001b[1;33m\u001b[0m\u001b[0m\n\u001b[0;32m    241\u001b[0m             \u001b[1;32mraise\u001b[0m \u001b[0mexception_class\u001b[0m\u001b[1;33m(\u001b[0m\u001b[0mmessage\u001b[0m\u001b[1;33m,\u001b[0m \u001b[0mscreen\u001b[0m\u001b[1;33m,\u001b[0m \u001b[0mstacktrace\u001b[0m\u001b[1;33m,\u001b[0m \u001b[0malert_text\u001b[0m\u001b[1;33m)\u001b[0m\u001b[1;33m\u001b[0m\u001b[1;33m\u001b[0m\u001b[0m\n\u001b[1;32m--> 242\u001b[1;33m         \u001b[1;32mraise\u001b[0m \u001b[0mexception_class\u001b[0m\u001b[1;33m(\u001b[0m\u001b[0mmessage\u001b[0m\u001b[1;33m,\u001b[0m \u001b[0mscreen\u001b[0m\u001b[1;33m,\u001b[0m \u001b[0mstacktrace\u001b[0m\u001b[1;33m)\u001b[0m\u001b[1;33m\u001b[0m\u001b[1;33m\u001b[0m\u001b[0m\n\u001b[0m\u001b[0;32m    243\u001b[0m \u001b[1;33m\u001b[0m\u001b[0m\n\u001b[0;32m    244\u001b[0m     \u001b[1;32mdef\u001b[0m \u001b[0m_value_or_default\u001b[0m\u001b[1;33m(\u001b[0m\u001b[0mself\u001b[0m\u001b[1;33m,\u001b[0m \u001b[0mobj\u001b[0m\u001b[1;33m,\u001b[0m \u001b[0mkey\u001b[0m\u001b[1;33m,\u001b[0m \u001b[0mdefault\u001b[0m\u001b[1;33m)\u001b[0m\u001b[1;33m:\u001b[0m\u001b[1;33m\u001b[0m\u001b[1;33m\u001b[0m\u001b[0m\n",
      "\u001b[1;31mNoSuchElementException\u001b[0m: Message: no such element: Unable to locate element: {\"method\":\"xpath\",\"selector\":\"//*[@id=\"contents\"]/div[6]/div/table/tbody/tr[5]/td[2]\"}\n  (Session info: chrome=75.0.3770.90)\n"
     ]
    }
   ],
   "source": [
    "#사업별 폴더 이름 설정 및 생성, 첨부파일 다운로드\n",
    "page_iter = (START_PAGE % 10)+2  #페이지이동처리\n",
    "\n",
    "while True:\n",
    "    for i in range(10+2) :\n",
    "        if i>1 :\n",
    "            article_xpath = '//*[@id=\"contents\"]/div[6]/div/table/tbody/tr['+str(i)+']'\n",
    "            #2478\n",
    "            id = browser.find_element_by_xpath(article_xpath+'/td[2]').text\n",
    "            name = browser.find_element_by_xpath(article_xpath+'/td[4]').text\n",
    "            day = browser.find_element_by_xpath(article_xpath+'/td[7]').text\n",
    "            state = browser.find_element_by_xpath(article_xpath+'/td[8]').text\n",
    "            article_name = id+' '+name+'('+day+','+state+')'\n",
    "            article_name = ''.join( c for c in article_name if  c not in '?:!/;' )\n",
    "            new_folder_name =DOWNLOAD_PATH+'/'+article_name\n",
    "            try:\n",
    "                os.makedirs(new_folder_name)\n",
    "            except:\n",
    "                print(new_folder_name+' already exist')\n",
    "                continue\n",
    "            \n",
    "            print(new_folder_name + 'downloading...')\n",
    "            browser.find_element_by_xpath(article_xpath+'/td[4]/a').click()\n",
    "            a=browser.find_elements_by_xpath('//*[@id=\"contents\"]/div[3]/div[3]/table/tbody/tr/td[3]/a')\n",
    "            print(str(len(a))+'개의 파일 발견')\n",
    "            for file in a : \n",
    "                file.click()\n",
    "                #다운로드가 느려지면 문제 생김 #move 함수 수정\n",
    "                time.sleep(5)\n",
    "                try :\n",
    "                    move_to_download_folder('C:/Users/Metanet/Downloads/', new_folder_name+'/', '.hwp')\n",
    "                    move_to_download_folder('C:/Users/Metanet/Downloads/', new_folder_name+'/', '.xlsx')\n",
    "                    move_to_download_folder('C:/Users/Metanet/Downloads/', new_folder_name+'/', '.pdf')\n",
    "                    move_to_download_folder('C:/Users/Metanet/Downloads/', new_folder_name+'/', '.xls')\n",
    "                    move_to_download_folder('C:/Users/Metanet/Downloads/', new_folder_name+'/', '.xlsm')\n",
    "                    move_to_download_folder('C:/Users/Metanet/Downloads/', new_folder_name+'/', '.zip')\n",
    "                except:\n",
    "                    print(new_folder_name+' 다운로드 후 이동 중 오류 발생')\n",
    "                    continue\n",
    "            browser.back()\n",
    "    page_iter = page_iter+1\n",
    "    if ((page_iter-2) % 10)!=0 :\n",
    "        next_page = '//*[@id=\"contents\"]/div[6]/div/div/ul/li[' +str(page_iter) + ']/a'\n",
    "        browser.find_element_by_xpath(next_page).click()\n",
    "    else :\n",
    "        page_iter = 3\n",
    "        browser.find_element_by_xpath(\"//a[@title='다음페이지 이동']\").click()\n",
    "    #마지막엔 10개 꽉 안차있어서 멈춤"
   ]
  },
  {
   "cell_type": "code",
   "execution_count": 23,
   "metadata": {},
   "outputs": [
    {
     "name": "stdout",
     "output_type": "stream",
     "text": [
      "b\n"
     ]
    }
   ],
   "source": [
    "if (0 % 10)!=0 :\n",
    "    print('a')\n",
    "else :\n",
    "    print('b')\n"
   ]
  },
  {
   "cell_type": "code",
   "execution_count": 46,
   "metadata": {},
   "outputs": [],
   "source": [
    "l = 0\n",
    "test = True\n",
    "while not test:\n",
    "    l=l+1\n",
    "    print(l)\n",
    "    if (l==10):\n",
    "        test = False"
   ]
  }
 ],
 "metadata": {
  "kernelspec": {
   "display_name": "Python 3",
   "language": "python",
   "name": "python3"
  },
  "language_info": {
   "codemirror_mode": {
    "name": "ipython",
    "version": 3
   },
   "file_extension": ".py",
   "mimetype": "text/x-python",
   "name": "python",
   "nbconvert_exporter": "python",
   "pygments_lexer": "ipython3",
   "version": "3.7.3"
  }
 },
 "nbformat": 4,
 "nbformat_minor": 2
}
